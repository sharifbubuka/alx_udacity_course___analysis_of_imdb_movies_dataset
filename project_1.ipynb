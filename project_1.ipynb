{
 "cells": [
  {
   "cell_type": "markdown",
   "id": "24f0a368",
   "metadata": {},
   "source": [
    "<h1>PROJECT 1: INVESTIGATION OF A DATASET - TMDB MOVIES DATASET</h1>\n",
    "\n",
    "<h2>Table of Contents</h2>\n",
    "<ul>\n",
    "<li><a href=\"#intro\">Introduction</a></li>\n",
    "<li><a href=\"#wrangling\">Data Wrangling Phase</a></li>\n",
    "<li><a href=\"#cleaning\">Data Cleaning Phase</a></li>\n",
    "<li><a href=\"#exploration\">Data Exploration Phase</a></li>\n",
    "<li><a href=\"#conclusion\">Conclusion</a></li>\n",
    "</ul>"
   ]
  },
  {
   "cell_type": "markdown",
   "id": "13e37eca",
   "metadata": {},
   "source": [
    "<a id=\"intro\"></a>\n",
    "<h2>Introduction</h2>\n",
    "\n",
    "<p>This dataset comes from IMDB and contains information about 10,000 movies, short films and tv series collected from The Movie Database (TMDb), including user ratings, revenue, runtime and budget.</p>\n",
    "<p>In this project, i'll be answering the following questions:</p>\n",
    "\n",
    "<strong>Single variable (1d) questions:</strong>\n",
    "<ol>\n",
    "    <li>Which <u>year</u> has the highest release of movies? <a href=\"#1d-1\">go-to</a></li>\n",
    "    <li>Which <u>genre</u> has the highest release of movies? <a href=\"#1d-2\">go-to</a></li>\n",
    "    <li>Which 10 <u>actors</u> are casted the most? <a href=\"#1d-3\">go-to</a></li>\n",
    "</ol>\n",
    "\n",
    "<strong>Multivariable (2d...) questions:</strong>\n",
    "<ol>\n",
    "    <li>Which length (<u>runtime</u>) movies are most liked according to their <u>popularity</u>? <a href=\"#2d-1\">go-to</a></li>\n",
    "    <li>What is the correlation between movies' <u>budgets</u> and their <u>revenue</u>? <a href=\"#2d-2\">go-to</a></li>\n",
    "    <li>What is the correlation between movies' <u>average ratings</u> and <u>revenue</u> generated? <a href=\"#2d-3\">go-to</a></li>\n",
    "    <li>What is the correlation between movies' <u>popularity</u> and <u>revenue</u> generated? <a href=\"#2d-4\">go-to</a></li>\n",
    "</ol>"
   ]
  },
  {
   "cell_type": "code",
   "execution_count": null,
   "id": "9be21e8a",
   "metadata": {},
   "outputs": [
    {
     "ename": "",
     "evalue": "",
     "output_type": "error",
     "traceback": [
      "\u001b[1;31mThe kernel failed to start as a dll could not be loaded.\n",
      "Click <a href='https://aka.ms/kernelFailuresDllLoad'>here</a> for more info."
     ]
    }
   ],
   "source": [
    "# import libraries\n",
    "import numpy as np\n",
    "import pandas as pd\n",
    "import matplotlib.pyplot as plt\n",
    "import seaborn as sns\n",
    "import operator\n",
    "%matplotlib inline"
   ]
  },
  {
   "cell_type": "markdown",
   "id": "ecbe87c8",
   "metadata": {},
   "source": [
    "<a id=\"wrangling\"></a>\n",
    "<h2>DATA WRANGLING PHASE</h2>"
   ]
  },
  {
   "cell_type": "markdown",
   "id": "90f6d390",
   "metadata": {},
   "source": [
    "<h3>Loading the dataset:</h3>\n",
    "<p>Here, I load the dataset into memory.</p>"
   ]
  },
  {
   "cell_type": "code",
   "execution_count": null,
   "id": "337e024f",
   "metadata": {},
   "outputs": [
    {
     "ename": "",
     "evalue": "",
     "output_type": "error",
     "traceback": [
      "\u001b[1;31mThe kernel failed to start as a dll could not be loaded.\n",
      "Click <a href='https://aka.ms/kernelFailuresDllLoad'>here</a> for more info."
     ]
    }
   ],
   "source": [
    "df = pd.read_csv('tmdb-movies.csv')"
   ]
  },
  {
   "cell_type": "markdown",
   "id": "71b4a395",
   "metadata": {},
   "source": [
    "<h3>Shape of the dataset:</h3>\n",
    "<p>Here, I check for the number of columns and rows.</p>"
   ]
  },
  {
   "cell_type": "code",
   "execution_count": null,
   "id": "69bbce1c",
   "metadata": {},
   "outputs": [
    {
     "ename": "",
     "evalue": "",
     "output_type": "error",
     "traceback": [
      "\u001b[1;31mThe kernel failed to start as a dll could not be loaded.\n",
      "Click <a href='https://aka.ms/kernelFailuresDllLoad'>here</a> for more info."
     ]
    }
   ],
   "source": [
    "df.shape"
   ]
  },
  {
   "cell_type": "markdown",
   "id": "59056b4f",
   "metadata": {},
   "source": [
    "<h4>Findings:</h4>\n",
    "<ul>\n",
    "    <li>The dataset has <b>10866 rows</b> and <b>21 columns</b>.</li>\n",
    "</ul>"
   ]
  },
  {
   "cell_type": "markdown",
   "id": "20e08150",
   "metadata": {},
   "source": [
    "<h3>Columns of the dataset:</h3>\n",
    "<p>Here, I check for the column values.</p>"
   ]
  },
  {
   "cell_type": "code",
   "execution_count": null,
   "id": "77677dbe",
   "metadata": {},
   "outputs": [
    {
     "ename": "",
     "evalue": "",
     "output_type": "error",
     "traceback": [
      "\u001b[1;31mThe kernel failed to start as a dll could not be loaded.\n",
      "Click <a href='https://aka.ms/kernelFailuresDllLoad'>here</a> for more info."
     ]
    }
   ],
   "source": [
    "list(df.columns)"
   ]
  },
  {
   "cell_type": "markdown",
   "id": "d81d3684",
   "metadata": {},
   "source": [
    "<h2>Data types of the columns:</h2>\n",
    "<p>Here, I check for the data type of each column.</p>"
   ]
  },
  {
   "cell_type": "code",
   "execution_count": null,
   "id": "3fa8922f",
   "metadata": {},
   "outputs": [
    {
     "ename": "",
     "evalue": "",
     "output_type": "error",
     "traceback": [
      "\u001b[1;31mThe kernel failed to start as a dll could not be loaded.\n",
      "Click <a href='https://aka.ms/kernelFailuresDllLoad'>here</a> for more info."
     ]
    }
   ],
   "source": [
    "df.dtypes"
   ]
  },
  {
   "cell_type": "markdown",
   "id": "44f4656d",
   "metadata": {},
   "source": [
    "<h2>Unique values per column:</h2>\n",
    "<p>Here, I check for the number of unique values in each column:</p>"
   ]
  },
  {
   "cell_type": "code",
   "execution_count": null,
   "id": "7c5ce4ad",
   "metadata": {},
   "outputs": [
    {
     "ename": "",
     "evalue": "",
     "output_type": "error",
     "traceback": [
      "\u001b[1;31mThe kernel failed to start as a dll could not be loaded.\n",
      "Click <a href='https://aka.ms/kernelFailuresDllLoad'>here</a> for more info."
     ]
    }
   ],
   "source": [
    "df.nunique()"
   ]
  },
  {
   "cell_type": "markdown",
   "id": "48ac306b",
   "metadata": {},
   "source": [
    "<h4>Findings:</h4>\n",
    "<ul>\n",
    "    <li>On the assumption that an imdb_id uniquely identifies a movie, there could be 11 duplicate movie entries since the number of unique values in the imdb_id column is 11 less than the total number of rows.</li>\n",
    "</ul>"
   ]
  },
  {
   "cell_type": "markdown",
   "id": "da25738c",
   "metadata": {},
   "source": [
    "<h3>First three rows of the dataset:</h3>\n",
    "<p>Here, I take a look at the first three rows.</p>"
   ]
  },
  {
   "cell_type": "code",
   "execution_count": null,
   "id": "9750d662",
   "metadata": {},
   "outputs": [
    {
     "ename": "",
     "evalue": "",
     "output_type": "error",
     "traceback": [
      "\u001b[1;31mThe kernel failed to start as a dll could not be loaded.\n",
      "Click <a href='https://aka.ms/kernelFailuresDllLoad'>here</a> for more info."
     ]
    }
   ],
   "source": [
    "df.head(3)"
   ]
  },
  {
   "cell_type": "markdown",
   "id": "9b16ce0d",
   "metadata": {},
   "source": [
    "<h3>The last three rows of the dataset:</h3>\n",
    "<p>Here, I take a look at the last three rows.</p>"
   ]
  },
  {
   "cell_type": "code",
   "execution_count": null,
   "id": "b88fab42",
   "metadata": {},
   "outputs": [
    {
     "ename": "",
     "evalue": "",
     "output_type": "error",
     "traceback": [
      "\u001b[1;31mThe kernel failed to start as a dll could not be loaded.\n",
      "Click <a href='https://aka.ms/kernelFailuresDllLoad'>here</a> for more info."
     ]
    }
   ],
   "source": [
    "df.tail(3)"
   ]
  },
  {
   "cell_type": "markdown",
   "id": "819cd51a",
   "metadata": {},
   "source": [
    "<h3>Descriptive statistics of the dataset:</h3>"
   ]
  },
  {
   "cell_type": "code",
   "execution_count": null,
   "id": "965e9c79",
   "metadata": {},
   "outputs": [
    {
     "ename": "",
     "evalue": "",
     "output_type": "error",
     "traceback": [
      "\u001b[1;31mThe kernel failed to start as a dll could not be loaded.\n",
      "Click <a href='https://aka.ms/kernelFailuresDllLoad'>here</a> for more info."
     ]
    }
   ],
   "source": [
    "df.describe()"
   ]
  },
  {
   "cell_type": "markdown",
   "id": "0fa84499",
   "metadata": {},
   "source": [
    "<h3>Informative statistics of the dataset:</h3>"
   ]
  },
  {
   "cell_type": "code",
   "execution_count": null,
   "id": "ca11376c",
   "metadata": {},
   "outputs": [
    {
     "ename": "",
     "evalue": "",
     "output_type": "error",
     "traceback": [
      "\u001b[1;31mThe kernel failed to start as a dll could not be loaded.\n",
      "Click <a href='https://aka.ms/kernelFailuresDllLoad'>here</a> for more info."
     ]
    }
   ],
   "source": [
    "df.info()"
   ]
  },
  {
   "cell_type": "markdown",
   "id": "52923e37",
   "metadata": {},
   "source": [
    "<a id=\"cleaning\"></a>\n",
    "<h2>DATA CLEANING PHASE</h2>"
   ]
  },
  {
   "cell_type": "markdown",
   "id": "425c1d8b",
   "metadata": {},
   "source": [
    "<h3>Duplicated rows of the dataset</h3>\n",
    "<p>Here, I check for the duplicated rows in the dataset and drop them.</p>"
   ]
  },
  {
   "cell_type": "code",
   "execution_count": null,
   "id": "a71d41a3",
   "metadata": {},
   "outputs": [
    {
     "ename": "",
     "evalue": "",
     "output_type": "error",
     "traceback": [
      "\u001b[1;31mThe kernel failed to start as a dll could not be loaded.\n",
      "Click <a href='https://aka.ms/kernelFailuresDllLoad'>here</a> for more info."
     ]
    }
   ],
   "source": [
    "# Check for sum of duplicated rows\n",
    "df.duplicated().sum()"
   ]
  },
  {
   "cell_type": "code",
   "execution_count": null,
   "id": "1d350712",
   "metadata": {},
   "outputs": [
    {
     "ename": "",
     "evalue": "",
     "output_type": "error",
     "traceback": [
      "\u001b[1;31mThe kernel failed to start as a dll could not be loaded.\n",
      "Click <a href='https://aka.ms/kernelFailuresDllLoad'>here</a> for more info."
     ]
    }
   ],
   "source": [
    "# Drop duplicated rows\n",
    "df.drop_duplicates(inplace=True)\n",
    "# confirm no duplicates exist in the dataset\n",
    "print('Number of duplicates in the data set: ', df.duplicated().sum())"
   ]
  },
  {
   "cell_type": "markdown",
   "id": "14679c26",
   "metadata": {},
   "source": [
    "<h3>Rows with null values in the dataset</h3>\n",
    "<p>Here, I check for the number of rows with null values per column.</p>"
   ]
  },
  {
   "cell_type": "code",
   "execution_count": null,
   "id": "6ce781ad",
   "metadata": {},
   "outputs": [
    {
     "ename": "",
     "evalue": "",
     "output_type": "error",
     "traceback": [
      "\u001b[1;31mThe kernel failed to start as a dll could not be loaded.\n",
      "Click <a href='https://aka.ms/kernelFailuresDllLoad'>here</a> for more info."
     ]
    }
   ],
   "source": [
    "df.isnull().sum()"
   ]
  },
  {
   "cell_type": "markdown",
   "id": "29cdfb0a",
   "metadata": {},
   "source": [
    "<h3>Drop unnecessary columns and those with many null values</h3>\n",
    "<p>Here, I drop the columns that might effect the acuracy of my investigation.</p>"
   ]
  },
  {
   "cell_type": "code",
   "execution_count": null,
   "id": "f308c262",
   "metadata": {},
   "outputs": [
    {
     "ename": "",
     "evalue": "",
     "output_type": "error",
     "traceback": [
      "\u001b[1;31mThe kernel failed to start as a dll could not be loaded.\n",
      "Click <a href='https://aka.ms/kernelFailuresDllLoad'>here</a> for more info."
     ]
    }
   ],
   "source": [
    "# Removing rows where revenue_adj and budget_adj is equal to zero\n",
    "df = df[df.budget_adj != 0]\n",
    "df = df[df.revenue_adj != 0]"
   ]
  },
  {
   "cell_type": "markdown",
   "id": "94973da8",
   "metadata": {},
   "source": [
    "<h3>Replace rows with null values for necessary columns in the dataset:</h3>\n",
    "<p>Here, I replace the rows that contain null values in necessary columns for my investigation.</p>"
   ]
  },
  {
   "cell_type": "code",
   "execution_count": null,
   "id": "d9983f56",
   "metadata": {},
   "outputs": [
    {
     "ename": "",
     "evalue": "",
     "output_type": "error",
     "traceback": [
      "\u001b[1;31mThe kernel failed to start as a dll could not be loaded.\n",
      "Click <a href='https://aka.ms/kernelFailuresDllLoad'>here</a> for more info."
     ]
    }
   ],
   "source": [
    "# Replace the rows with no director with 'no director'\n",
    "df['director'].fillna('no director', inplace=True)\n",
    "# confirm that no movie has a 'null' value for a director\n",
    "print('Movies with null for director: ', df['director'].isnull().sum())\n",
    "\n",
    "# Replace the rows with no production company with 'no production company'\n",
    "df['production_companies'].fillna('no production company', inplace=True)\n",
    "# confirm that no movie has a 'null' value for the production companies\n",
    "print('Movies with null for production companies: ', df['production_companies'].isnull().sum())\n",
    "\n",
    "# Replace the rows with no genre with 'no genre'\n",
    "df['genres'].fillna('no production company', inplace=True)\n",
    "# confirm that no movie has a 'null' value for the genres\n",
    "print('Movies with null for genres: ', df['genres'].isnull().sum())\n",
    "\n",
    "# Replace the rows with no cast with 'no cast'\n",
    "df['cast'].fillna('no cast', inplace=True)\n",
    "# confirm that no movie has a 'null' value for the cast\n",
    "print('Movies with null for cast: ', df['cast'].isnull().sum())"
   ]
  },
  {
   "cell_type": "markdown",
   "id": "6a449c9f",
   "metadata": {},
   "source": [
    "<h3>Convert columns to appropriate data types</h3>\n",
    "<p>Here, I ensure columns have appropriate data types</p>"
   ]
  },
  {
   "cell_type": "code",
   "execution_count": null,
   "id": "ae9c0c7e",
   "metadata": {},
   "outputs": [
    {
     "ename": "",
     "evalue": "",
     "output_type": "error",
     "traceback": [
      "\u001b[1;31mThe kernel failed to start as a dll could not be loaded.\n",
      "Click <a href='https://aka.ms/kernelFailuresDllLoad'>here</a> for more info."
     ]
    }
   ],
   "source": [
    "# Convert release_year to int (to support calculations on it)\n",
    "df['release_year'] = df['release_year'].values.astype(int)"
   ]
  },
  {
   "cell_type": "code",
   "execution_count": null,
   "id": "53c14353",
   "metadata": {},
   "outputs": [
    {
     "ename": "",
     "evalue": "",
     "output_type": "error",
     "traceback": [
      "\u001b[1;31mThe kernel failed to start as a dll could not be loaded.\n",
      "Click <a href='https://aka.ms/kernelFailuresDllLoad'>here</a> for more info."
     ]
    }
   ],
   "source": [
    "# confirm change of data types\n",
    "df.dtypes"
   ]
  },
  {
   "cell_type": "markdown",
   "id": "25cb20c3",
   "metadata": {},
   "source": [
    "<a id=\"exploration\"></a>\n",
    "<h2>DATA EXPLORATION PHASE</h2>"
   ]
  },
  {
   "cell_type": "markdown",
   "id": "0e5d65ae",
   "metadata": {},
   "source": [
    "<strong>REUSABLE FUNCTIONS AND CONSTANTS</strong>"
   ]
  },
  {
   "cell_type": "code",
   "execution_count": null,
   "id": "3426585a",
   "metadata": {},
   "outputs": [
    {
     "ename": "",
     "evalue": "",
     "output_type": "error",
     "traceback": [
      "\u001b[1;31mThe kernel failed to start as a dll could not be loaded.\n",
      "Click <a href='https://aka.ms/kernelFailuresDllLoad'>here</a> for more info."
     ]
    }
   ],
   "source": [
    "# Correlation columns\n",
    "corr_df = df[['revenue_adj', 'budget_adj', 'popularity', 'vote_average']]\n",
    "\n",
    "# Reusable functions\n",
    "def split_string(value, sep):\n",
    "    if type(value) == str:\n",
    "        return value.split(sep)\n",
    "    else: \n",
    "        return value"
   ]
  },
  {
   "cell_type": "markdown",
   "id": "c1711890",
   "metadata": {},
   "source": [
    "<a id=\"1d-1\"></a><h3>1. Which year has the highest release of movies?</h3>"
   ]
  },
  {
   "cell_type": "code",
   "execution_count": null,
   "id": "837e8a8b",
   "metadata": {},
   "outputs": [
    {
     "ename": "",
     "evalue": "",
     "output_type": "error",
     "traceback": [
      "\u001b[1;31mThe kernel failed to start as a dll could not be loaded.\n",
      "Click <a href='https://aka.ms/kernelFailuresDllLoad'>here</a> for more info."
     ]
    }
   ],
   "source": [
    "#count the number of movies in each year \n",
    "years_with_movie_count=df.groupby('release_year').count()['id']\n",
    "\n",
    "# plot my findings\n",
    "years_with_movie_count.plot(xticks = np.arange(1960,2016,5))\n",
    "sns.set(rc={'figure.figsize':(25,5)})\n",
    "plt.title(\"Number of movies per year\",fontsize = 14)\n",
    "plt.xlabel('Release year',fontsize = 13)\n",
    "plt.ylabel('Number Of Movies',fontsize = 13)\n",
    "#set the style sheet\n",
    "sns.set_style(\"whitegrid\")"
   ]
  },
  {
   "cell_type": "markdown",
   "id": "0cb838a8",
   "metadata": {},
   "source": [
    "\n",
    "<a id=\"1d-2\"></a><h3>2. Which genre has the highest release of movies?</h3>"
   ]
  },
  {
   "cell_type": "code",
   "execution_count": null,
   "id": "a708fc6b",
   "metadata": {},
   "outputs": [
    {
     "ename": "",
     "evalue": "",
     "output_type": "error",
     "traceback": [
      "\u001b[1;31mThe kernel failed to start as a dll could not be loaded.\n",
      "Click <a href='https://aka.ms/kernelFailuresDllLoad'>here</a> for more info."
     ]
    }
   ],
   "source": [
    "#count the total number of genre appearences\n",
    "total_genres_appearences = df['genres'].str.cat(sep='|')\n",
    "genres_count = pd.Series(total_genres_appearences.split('|')).value_counts(ascending=False)\n",
    "\n",
    "#plot a 'bar' plot using plot function for 'genre vs number of movies'.\n",
    "genres_count.plot(kind= 'bar',figsize = (13,10),fontsize=12)\n",
    "#setup the title and the labels of the plot.\n",
    "plt.title(\"Genre with the highest release of movies\",fontsize=15)\n",
    "plt.xlabel('Number Of Movies',fontsize=13)\n",
    "plt.ylabel(\"Genres\",fontsize= 13)"
   ]
  },
  {
   "cell_type": "markdown",
   "id": "256d52c2",
   "metadata": {},
   "source": [
    "<a id=\"1d-3\"></a><h3>3. Which 10 actors have the most appearances?</h3>"
   ]
  },
  {
   "cell_type": "code",
   "execution_count": null,
   "id": "7e2505f4",
   "metadata": {},
   "outputs": [
    {
     "ename": "",
     "evalue": "",
     "output_type": "error",
     "traceback": [
      "\u001b[1;31mThe kernel failed to start as a dll could not be loaded.\n",
      "Click <a href='https://aka.ms/kernelFailuresDllLoad'>here</a> for more info."
     ]
    }
   ],
   "source": [
    "#count the total number of actors appearences\n",
    "total_actor_appearences = df['cast'].str.cat(sep='|')\n",
    "actor_count = pd.Series(total_actor_appearences.split('|')).value_counts(ascending=False)\n",
    "\n",
    "#plot the barh plot.\n",
    "actor_count.iloc[:10].plot.bar(figsize=(15,6),colormap= 'tab20c',fontsize=12)\n",
    "\n",
    "#setup the title and the labels of the plot.\n",
    "plt.title(\"Most Frequent Actor\",fontsize=15)\n",
    "plt.xticks(rotation = 70)\n",
    "plt.xlabel('Actor',fontsize=13)\n",
    "plt.ylabel(\"Number Of Movies\",fontsize= 13)\n",
    "sns.set_style(\"whitegrid\")\n"
   ]
  },
  {
   "cell_type": "markdown",
   "id": "8b80e367",
   "metadata": {},
   "source": [
    "<a id=\"2d-1\"></a><h3>4. Which length (runtime) movies are most liked according to their popularity?</h3>"
   ]
  },
  {
   "cell_type": "code",
   "execution_count": null,
   "id": "06e00802",
   "metadata": {},
   "outputs": [
    {
     "ename": "",
     "evalue": "",
     "output_type": "error",
     "traceback": [
      "\u001b[1;31mThe kernel failed to start as a dll could not be loaded.\n",
      "Click <a href='https://aka.ms/kernelFailuresDllLoad'>here</a> for more info."
     ]
    }
   ],
   "source": [
    "#make the group of the data according to their runtime and find the mean popularity related to this and plot.\n",
    "df.groupby('runtime')['popularity'].mean().plot(figsize = (13,5),xticks=np.arange(0,400,20))\n",
    "\n",
    "#setup the title of the figure\n",
    "plt.title(\"Runtime Vs Popularity\",fontsize = 14)\n",
    "plt.xlabel('Runtime',fontsize = 13)\n",
    "plt.ylabel('Average Popularity',fontsize = 13)\n",
    "#setup the figure size.\n",
    "sns.set(rc={'figure.figsize':(15,8)})\n",
    "sns.set_style(\"whitegrid\")"
   ]
  },
  {
   "cell_type": "markdown",
   "id": "189ae5b3",
   "metadata": {},
   "source": [
    "<h3>How do different attributes correlate with each other?</h3>"
   ]
  },
  {
   "cell_type": "markdown",
   "id": "4d2efb50",
   "metadata": {},
   "source": [
    "<a id=\"2d-2\"></a><h3>5. budget_adj and revenue_adj</h3>"
   ]
  },
  {
   "cell_type": "code",
   "execution_count": null,
   "id": "d0408249",
   "metadata": {},
   "outputs": [
    {
     "ename": "",
     "evalue": "",
     "output_type": "error",
     "traceback": [
      "\u001b[1;31mThe kernel failed to start as a dll could not be loaded.\n",
      "Click <a href='https://aka.ms/kernelFailuresDllLoad'>here</a> for more info."
     ]
    }
   ],
   "source": [
    "budget_revenue_correlation_fig = sns.jointplot(x = \"budget_adj\", y = \"revenue_adj\", kind = \"scatter\", data = corr_df)\n",
    "budget_revenue_correlation_fig.fig.suptitle('Scatterplot and correlation for budget_adj and revenue_adj')\n",
    "print('Correlation coefficient: ', corr_df['budget_adj'].corr(corr_df['revenue_adj']))"
   ]
  },
  {
   "cell_type": "markdown",
   "id": "0d136591",
   "metadata": {},
   "source": [
    "<h4>Findings:</h4>\n",
    "<ul>\n",
    "    <li>There is a <b>moderate uphill positive correlation</b> between budget_adj and revenue_adj.</li>\n",
    "</ul>"
   ]
  },
  {
   "cell_type": "markdown",
   "id": "36d1b166",
   "metadata": {},
   "source": [
    "<a id=\"2d-3\"></a><h3>6. revenue_adj and vote_average</h3>"
   ]
  },
  {
   "cell_type": "code",
   "execution_count": null,
   "id": "4b33a4f0",
   "metadata": {},
   "outputs": [
    {
     "ename": "",
     "evalue": "",
     "output_type": "error",
     "traceback": [
      "\u001b[1;31mThe kernel failed to start as a dll could not be loaded.\n",
      "Click <a href='https://aka.ms/kernelFailuresDllLoad'>here</a> for more info."
     ]
    }
   ],
   "source": [
    "revenue_vote_correlation_fig = sns.jointplot(x = \"revenue_adj\", y = \"vote_average\", kind = \"scatter\", data = corr_df)\n",
    "revenue_vote_correlation_fig.fig.suptitle('Scatterplot and correlation for revenue_adj and vote_average')\n",
    "print('Correlation coefficient: ', corr_df['revenue_adj'].corr(corr_df['vote_average']))"
   ]
  },
  {
   "cell_type": "markdown",
   "id": "af149806",
   "metadata": {},
   "source": [
    "<h4>Findings:</h4>\n",
    "<ul>\n",
    "    <li>There is almost <b>no linear correlation</b> between revenue_adj and vote_average. This implies that movies with hih revenues do not necessarily tend to have high popularity too.</li>\n",
    "</ul>"
   ]
  },
  {
   "cell_type": "markdown",
   "id": "695449b8",
   "metadata": {},
   "source": [
    "<a id=\"2d-4\"></a><h3>7. revenue_adj and popularity</h3>"
   ]
  },
  {
   "cell_type": "code",
   "execution_count": null,
   "id": "27ab6dd9",
   "metadata": {},
   "outputs": [
    {
     "ename": "",
     "evalue": "",
     "output_type": "error",
     "traceback": [
      "\u001b[1;31mThe kernel failed to start as a dll could not be loaded.\n",
      "Click <a href='https://aka.ms/kernelFailuresDllLoad'>here</a> for more info."
     ]
    }
   ],
   "source": [
    "revenue_popularity_correlation_fig = sns.jointplot(x = \"revenue_adj\", y = \"popularity\", kind = \"scatter\", data = corr_df)\n",
    "revenue_popularity_correlation_fig.fig.suptitle('Scatterplot and correlation for revenue_adj and popularity')\n",
    "print('Correlation coefficient: ', corr_df['revenue_adj'].corr(corr_df['popularity']))"
   ]
  },
  {
   "cell_type": "markdown",
   "id": "4ecf1efe",
   "metadata": {},
   "source": [
    "<h4>Findings:</h4>\n",
    "<ul>\n",
    "    <li>There is a <b>moderate uphill positive correlation</b> between revenue_adj and popularity.</li>\n",
    "</ul>"
   ]
  },
  {
   "cell_type": "markdown",
   "id": "2d5f1974",
   "metadata": {},
   "source": [
    "<a id=\"conclusion\"></a>\n",
    "<h2>CONCLUSION</h2>\n",
    "<div>\n",
    "    <h3>Summary of analysis:</h3>\n",
    "    <h4>Descriptive summary:</h4>\n",
    "    <p>The dataset has 10866 rows and 21 columns. Some columns have null and zero values hence these needed to be handled in the cleaning process. </p>\n",
    "    <h4>Exploratory summary:</h4>\n",
    "    <ol>\n",
    "        <h5>1d exploratory findings:</h5>\n",
    "        <li>The biggest annual release of movies happened in 2011 and the smallest was in 1969.</li>\n",
    "        <li>Drama genre had the biggest release of movies and TV Movie had the least.</li>\n",
    "        <li>Robert Deniro is the most casted actor with over 50 castings in the dataset.</li>\n",
    "    </ol>\n",
    "    <ol>\n",
    "        <h5>Multidimensional exploratory finding:</h5>\n",
    "        <li>Movies with a runtime between 160-180 minutes of runtime tend to have the highest popularity.</li>\n",
    "        <li>There is a moderate uphill positive correlation between movie budgets and their consquent revenue.</li>\n",
    "        <li>There is almost no correlation between between movie revnue and vote average.</li>\n",
    "        <li>There is a moderate uphill positive correlation between movie revenues and their popularity.</li>\n",
    "    </ol>\n",
    "</div>\n",
    "<div>\n",
    "    <h3>Limitations:</h3>\n",
    "    <ul>\n",
    "        <li>The completeneess of the dataset is questionable. This is so because the revenue and budget columns do have a currency. In case different movies have budgets and possibly revenues in different currencies, usually based on their country of production, such a disparity could render parts of this anylsis incorrect and misleding.</li>\n",
    "        <li>Inspite of the fact that this is a relatively rich dataset, many rows had null and zero values. Besides making the cleaning phase tedious,´and time consuming, this creates false positives during the investigation (assuming a replace these with placeholders, instead of completely dropping them).</li>\n",
    "    </ul>\n",
    "</div>\n",
    "<div>\n",
    "    <h3>Resources used:</h3>\n",
    "    <ul>\n",
    "        <li>Kaggle: <i>https://kaggle.com</i></li>\n",
    "        <li>Pandas Documentation: <i>https://pandas.pydata.org/docs/index.html</i></li>\n",
    "        <li>Seaborn API Reference: <i>https://seaborn.pydata.org/api.html</i></li>\n",
    "        <li>NumPy Documentation: <i>https://numpy.org/doc/stable/</i></li>\n",
    "        <li>\"Correlation does not imply causation\": <i>https://en.wikipedia.org/wiki/Correlation_does_not_imply_causation</i></li>\n",
    "    </ul>\n",
    "</div>"
   ]
  }
 ],
 "metadata": {
  "kernelspec": {
   "display_name": "Python 3 (ipykernel)",
   "language": "python",
   "name": "python3"
  },
  "language_info": {
   "codemirror_mode": {
    "name": "ipython",
    "version": 3
   },
   "file_extension": ".py",
   "mimetype": "text/x-python",
   "name": "python",
   "nbconvert_exporter": "python",
   "pygments_lexer": "ipython3",
   "version": "3.10.4"
  },
  "vscode": {
   "interpreter": {
    "hash": "badc9b1e4d2faddabcf9cf2a8c5580ee11541658347d056f22be3783bb7cec20"
   }
  }
 },
 "nbformat": 4,
 "nbformat_minor": 5
}
